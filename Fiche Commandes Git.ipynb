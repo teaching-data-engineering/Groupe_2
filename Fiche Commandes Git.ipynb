{
 "cells": [
  {
   "cell_type": "markdown",
   "metadata": {},
   "source": [
    "# Principales commandes Git à exécuter via le terminal"
   ]
  },
  {
   "cell_type": "markdown",
   "metadata": {},
   "source": [
    "**Initisaliser un dépôt** (créer un nouveau dépôt Git dans le répertoire courant) : `git init`"
   ]
  },
  {
   "cell_type": "markdown",
   "metadata": {},
   "source": [
    "**Ajouter des fichiers** au staging area (prépare des fichiers ou dossiers pour le prochain commit) : `git add <fichier_ou_repertoire>`"
   ]
  },
  {
   "cell_type": "markdown",
   "metadata": {},
   "source": [
    "**Valider des modifications** (enregistre les changements du staging area avec un message de commit) : `git commit -m \"Message de commit\"`"
   ]
  },
  {
   "cell_type": "markdown",
   "metadata": {},
   "source": [
    "**Afficher l'état du dépôt** (affiche les modifications en attente et les fichiers non suivis) : `git status`"
   ]
  },
  {
   "cell_type": "markdown",
   "metadata": {},
   "source": [
    "**Voir l'historique des commits** : `git log`"
   ]
  },
  {
   "cell_type": "markdown",
   "metadata": {},
   "source": [
    "**Cloner un dépôt distant** (créer une copie locale d'un dépôt distant) : `git clone <url_du_depot>`"
   ]
  },
  {
   "cell_type": "markdown",
   "metadata": {},
   "source": [
    "**Pousser les changements vers un dépôts distant** (envoie les commits locaux vers le dépôt distant) : `git push <nom_du_remote> <branche>`"
   ]
  },
  {
   "cell_type": "markdown",
   "metadata": {},
   "source": [
    "**Récupérer des misages à jour d'un dépôt distant** (intègre les changements du dépôt distant dans la branche locale) : `git pull <nom_du_remote> <branche>`"
   ]
  },
  {
   "cell_type": "markdown",
   "metadata": {},
   "source": [
    "**Créer une nouvelle branche** : `git branch <nom_de_la_branche>`"
   ]
  },
  {
   "cell_type": "markdown",
   "metadata": {},
   "source": [
    "**Changer de branche** : `git checkout <nom_de_la_branche>`"
   ]
  },
  {
   "cell_type": "markdown",
   "metadata": {},
   "source": [
    "**Fusionner une branche dans la branche actuelle** : `git merge <nom_de_la_branche>`"
   ]
  },
  {
   "cell_type": "markdown",
   "metadata": {},
   "source": [
    "**Supprimer une branche localement** : `git branch -d <nom_de_la_branche>`"
   ]
  }
 ],
 "metadata": {
  "language_info": {
   "name": "python"
  }
 },
 "nbformat": 4,
 "nbformat_minor": 2
}
