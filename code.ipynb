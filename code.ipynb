{
 "cells": [
  {
   "cell_type": "code",
   "execution_count": 1,
   "metadata": {},
   "outputs": [],
   "source": [
    "import requests\n",
    "import json\n",
    "import datetime"
   ]
  },
  {
   "cell_type": "code",
   "execution_count": 2,
   "metadata": {},
   "outputs": [
    {
     "data": {
      "text/plain": [
       "True"
      ]
     },
     "execution_count": 2,
     "metadata": {},
     "output_type": "execute_result"
    }
   ],
   "source": [
    "# Définir la date de début et de fin pour le mois d'octobre\n",
    "import requests\n",
    "from datetime import datetime, timedelta\n",
    "\n",
    "def import_url(page, start_date, end_date):\n",
    "    # URL de l'API avec les paramètres de date\n",
    "    url = f\"https://www.bandsintown.com/choose-dates/fetch-next/upcomingEvents?date=&page={page}&longitude=-74.006&latitude=40.7128&genre_query=all-genres&start_date={start_date}&end_date={end_date}\"\n",
    "\n",
    "    headers = {\n",
    "        \"User-Agent\": \"Mozilla/5.0 (Windows NT 10.0; Win64; x64) AppleWebKit/537.36 (KHTML, like Gecko) Chrome/58.0.3029.110 Safari/537.3\"\n",
    "    }\n",
    "\n",
    "\n",
    "    response = requests.get(url, headers=headers)\n",
    "    response.raise_for_status()  # Vérifiez si la requête a réussi\n",
    "    data = response.json()  # Essayez de décoder la réponse JSON\n",
    "\n",
    "    return data\n",
    "data = import_url(1, \"2024-10-01\", \"2024-10-02\")\n",
    "data['events'][0]['artistImageSrc'] == data['events'][0]['artistImageSrc']"
   ]
  },
  {
   "cell_type": "code",
   "execution_count": 4,
   "metadata": {},
   "outputs": [
    {
     "ename": "HTTPError",
     "evalue": "403 Client Error: Forbidden for url: https://www.bandsintown.com/choose-dates/fetch-next/upcomingEvents?date=&page=13&longitude=-74.006&latitude=40.7128&genre_query=all-genres&start_date=2024-10-3&end_date=2024-10-4",
     "output_type": "error",
     "traceback": [
      "\u001b[0;31m---------------------------------------------------------------------------\u001b[0m",
      "\u001b[0;31mHTTPError\u001b[0m                                 Traceback (most recent call last)",
      "Cell \u001b[0;32mIn[4], line 30\u001b[0m\n\u001b[1;32m     27\u001b[0m             \u001b[38;5;28;01melse\u001b[39;00m: \u001b[38;5;28;01mbreak\u001b[39;00m\n\u001b[1;32m     28\u001b[0m     \u001b[38;5;28;01mreturn\u001b[39;00m d_data\n\u001b[0;32m---> 30\u001b[0m recuperer_page()\n",
      "Cell \u001b[0;32mIn[4], line 21\u001b[0m, in \u001b[0;36mrecuperer_page\u001b[0;34m()\u001b[0m\n\u001b[1;32m     18\u001b[0m sleep(random\u001b[38;5;241m.\u001b[39muniform(\u001b[38;5;241m0.5\u001b[39m, \u001b[38;5;241m1.5\u001b[39m)) \u001b[38;5;66;03m# aléatoire\u001b[39;00m\n\u001b[1;32m     20\u001b[0m \u001b[38;5;66;03m# On choppe les données\u001b[39;00m\n\u001b[0;32m---> 21\u001b[0m data_page \u001b[38;5;241m=\u001b[39m import_url(page, \u001b[38;5;124mf\u001b[39m\u001b[38;5;124m\"\u001b[39m\u001b[38;5;124m2024-10-\u001b[39m\u001b[38;5;132;01m{\u001b[39;00mday\u001b[38;5;132;01m}\u001b[39;00m\u001b[38;5;124m\"\u001b[39m, \u001b[38;5;124mf\u001b[39m\u001b[38;5;124m\"\u001b[39m\u001b[38;5;124m2024-10-\u001b[39m\u001b[38;5;132;01m{\u001b[39;00mday\u001b[38;5;241m+\u001b[39m\u001b[38;5;241m1\u001b[39m\u001b[38;5;132;01m}\u001b[39;00m\u001b[38;5;124m\"\u001b[39m)\n\u001b[1;32m     22\u001b[0m data_page_next \u001b[38;5;241m=\u001b[39m import_url(page\u001b[38;5;241m+\u001b[39m\u001b[38;5;241m1\u001b[39m, \u001b[38;5;124mf\u001b[39m\u001b[38;5;124m\"\u001b[39m\u001b[38;5;124m2024-10-\u001b[39m\u001b[38;5;132;01m{\u001b[39;00mday\u001b[38;5;132;01m}\u001b[39;00m\u001b[38;5;124m\"\u001b[39m, \u001b[38;5;124mf\u001b[39m\u001b[38;5;124m\"\u001b[39m\u001b[38;5;124m2024-10-\u001b[39m\u001b[38;5;132;01m{\u001b[39;00mday\u001b[38;5;241m+\u001b[39m\u001b[38;5;241m1\u001b[39m\u001b[38;5;132;01m}\u001b[39;00m\u001b[38;5;124m\"\u001b[39m)\n\u001b[1;32m     24\u001b[0m \u001b[38;5;66;03m# Comparaison des données des deux pages\u001b[39;00m\n",
      "Cell \u001b[0;32mIn[2], line 15\u001b[0m, in \u001b[0;36mimport_url\u001b[0;34m(page, start_date, end_date)\u001b[0m\n\u001b[1;32m      9\u001b[0m headers \u001b[38;5;241m=\u001b[39m {\n\u001b[1;32m     10\u001b[0m     \u001b[38;5;124m\"\u001b[39m\u001b[38;5;124mUser-Agent\u001b[39m\u001b[38;5;124m\"\u001b[39m: \u001b[38;5;124m\"\u001b[39m\u001b[38;5;124mMozilla/5.0 (Windows NT 10.0; Win64; x64) AppleWebKit/537.36 (KHTML, like Gecko) Chrome/58.0.3029.110 Safari/537.3\u001b[39m\u001b[38;5;124m\"\u001b[39m\n\u001b[1;32m     11\u001b[0m }\n\u001b[1;32m     14\u001b[0m response \u001b[38;5;241m=\u001b[39m requests\u001b[38;5;241m.\u001b[39mget(url, headers\u001b[38;5;241m=\u001b[39mheaders)\n\u001b[0;32m---> 15\u001b[0m response\u001b[38;5;241m.\u001b[39mraise_for_status()  \u001b[38;5;66;03m# Vérifiez si la requête a réussi\u001b[39;00m\n\u001b[1;32m     16\u001b[0m data \u001b[38;5;241m=\u001b[39m response\u001b[38;5;241m.\u001b[39mjson()  \u001b[38;5;66;03m# Essayez de décoder la réponse JSON\u001b[39;00m\n\u001b[1;32m     18\u001b[0m \u001b[38;5;28;01mreturn\u001b[39;00m data\n",
      "File \u001b[0;32m/opt/anaconda3/lib/python3.12/site-packages/requests/models.py:1024\u001b[0m, in \u001b[0;36mResponse.raise_for_status\u001b[0;34m(self)\u001b[0m\n\u001b[1;32m   1019\u001b[0m     http_error_msg \u001b[38;5;241m=\u001b[39m (\n\u001b[1;32m   1020\u001b[0m         \u001b[38;5;124mf\u001b[39m\u001b[38;5;124m\"\u001b[39m\u001b[38;5;132;01m{\u001b[39;00m\u001b[38;5;28mself\u001b[39m\u001b[38;5;241m.\u001b[39mstatus_code\u001b[38;5;132;01m}\u001b[39;00m\u001b[38;5;124m Server Error: \u001b[39m\u001b[38;5;132;01m{\u001b[39;00mreason\u001b[38;5;132;01m}\u001b[39;00m\u001b[38;5;124m for url: \u001b[39m\u001b[38;5;132;01m{\u001b[39;00m\u001b[38;5;28mself\u001b[39m\u001b[38;5;241m.\u001b[39murl\u001b[38;5;132;01m}\u001b[39;00m\u001b[38;5;124m\"\u001b[39m\n\u001b[1;32m   1021\u001b[0m     )\n\u001b[1;32m   1023\u001b[0m \u001b[38;5;28;01mif\u001b[39;00m http_error_msg:\n\u001b[0;32m-> 1024\u001b[0m     \u001b[38;5;28;01mraise\u001b[39;00m HTTPError(http_error_msg, response\u001b[38;5;241m=\u001b[39m\u001b[38;5;28mself\u001b[39m)\n",
      "\u001b[0;31mHTTPError\u001b[0m: 403 Client Error: Forbidden for url: https://www.bandsintown.com/choose-dates/fetch-next/upcomingEvents?date=&page=13&longitude=-74.006&latitude=40.7128&genre_query=all-genres&start_date=2024-10-3&end_date=2024-10-4"
     ]
    }
   ],
   "source": [
    "import requests\n",
    "from time import sleep\n",
    "import random\n",
    "\n",
    "headers = {\n",
    "    \"User-Agent\": \"Mozilla/5.0 (Windows NT 10.0; Win64; x64) AppleWebKit/537.36 (KHTML, like Gecko) Chrome/58.0.3029.110 Safari/537.3\"\n",
    "}\n",
    "\n",
    "liste_dictionnaire = []\n",
    "artist_name_0 = \"\"\n",
    "\n",
    "\n",
    "def recuperer_page():\n",
    "    d_data = dict()\n",
    "    max_day = 6\n",
    "    min_day = 1\n",
    "    for day in range(min_day, max_day):\n",
    "        for page in range(1,100):\n",
    "            # Temps d'attente aléatoire pour simuler un humain\n",
    "            sleep(random.uniform(0.5, 1.5)) # aléatoire\n",
    "\n",
    "            # On choppe les données\n",
    "            data_page = import_url(page, f\"2024-10-{day}\", f\"2024-10-{day+1}\")\n",
    "            data_page_next = import_url(page+1, f\"2024-10-{day}\", f\"2024-10-{day+1}\")\n",
    "            \n",
    "            # Comparaison des données des deux pages\n",
    "            if data_page['events'][0]['artistImageSrc'] != data_page_next['events'][0]['artistImageSrc']:\n",
    "                d_data['day'] = data_page['events']\n",
    "            else: break\n",
    "        if max_day > 30:\n",
    "            max_day = 32\n",
    "            min_day = 31\n",
    "        else:\n",
    "            max_day +=5\n",
    "            min_day+=5\n",
    "    return d_data\n",
    "\n",
    "recuperer_page()\n",
    "\n",
    "            \n",
    "            \n"
   ]
  },
  {
   "cell_type": "code",
   "execution_count": null,
   "metadata": {},
   "outputs": [],
   "source": []
  }
 ],
 "metadata": {
  "kernelspec": {
   "display_name": "base",
   "language": "python",
   "name": "python3"
  },
  "language_info": {
   "codemirror_mode": {
    "name": "ipython",
    "version": 3
   },
   "file_extension": ".py",
   "mimetype": "text/x-python",
   "name": "python",
   "nbconvert_exporter": "python",
   "pygments_lexer": "ipython3",
   "version": "3.12.2"
  }
 },
 "nbformat": 4,
 "nbformat_minor": 2
}
