{
 "cells": [
  {
   "cell_type": "markdown",
   "metadata": {},
   "source": [
    "# II - Utiliser l’API\n",
    "\n",
    "# 3. Requêter vos premiers évènements\n",
    "\n",
    "Requêter vos premiers évènements dans la ville de votre groupe sur la plage de\n",
    "dates prédéfinies"
   ]
  },
  {
   "cell_type": "code",
   "execution_count": null,
   "metadata": {},
   "outputs": [],
   "source": [
    "import requests\n",
    "page = 1        \n",
    "url = f\"https://www.bandsintown.com/this-month/fetch-next/upcomingEvents?page={page}&longitude=-74.00597&latitude=40.71427&genre_query=all-genres\"\n",
    "\n",
    "headers = {\n",
    "        'User-Agent': 'Mozilla/5.0 (Windows NT 10.0; Win64; x64) AppleWebKit/537.36 (KHTML, like Gecko) Chrome/58.0.3029.110 Safari/537.3'\n",
    "    }\n",
    "\n",
    "data = requests.get(url, headers=headers).json()\n",
    "data"
   ]
  },
  {
   "cell_type": "markdown",
   "metadata": {},
   "source": [
    "# 4. Avoir les évènements d’une page spécifique"
   ]
  },
  {
   "cell_type": "code",
   "execution_count": 15,
   "metadata": {},
   "outputs": [],
   "source": [
    "from urllib.request import urlopen, Request\n",
    "from urllib import request, parse\n",
    "from pprint import pprint\n",
    "import json\n",
    "url = f\"https://www.bandsintown.com/this-month/fetch-next/upcomingEvents\"\n",
    "page= 1\n",
    "params_dic= {\n",
    "    \"page\" : f\"{page}\",\n",
    "    \"longitude\" : -74.00597,\n",
    "    \"latitude\" : 40.71427,\n",
    "    \"genre_query\" : \"all-genres\"\n",
    "}\n",
    "url_param = parse.urlencode(params_dic)\n",
    "full_url = f\"{url}?{url_param}\"\n",
    "\n",
    "headers = {\n",
    "    'User-Agent': 'Mozilla/5.0 (Windows NT 10.0; Win64; x64) AppleWebKit/537.36 (KHTML, like Gecko) Chrome/58.0.3029.110 Safari/537.3'\n",
    "}\n",
    "req = Request(full_url, headers=headers)\n",
    "response = urlopen(req)\n",
    "content = response.read()\n",
    "json_data = json.loads(content)\n",
    "file_json= json.dumps(json_data, indent=4)\n"
   ]
  },
  {
   "cell_type": "markdown",
   "metadata": {},
   "source": [
    "# 5. Identifier le maximum de page"
   ]
  },
  {
   "cell_type": "code",
   "execution_count": null,
   "metadata": {},
   "outputs": [],
   "source": [
    "print(file_json)\n"
   ]
  },
  {
   "cell_type": "markdown",
   "metadata": {},
   "source": [
    "# III - Requêter avec des proxies\n",
    "\n",
    "# 6. Anonymiser vos requêtes avec les proxies"
   ]
  },
  {
   "cell_type": "code",
   "execution_count": null,
   "metadata": {},
   "outputs": [],
   "source": []
  },
  {
   "cell_type": "markdown",
   "metadata": {},
   "source": [
    "# 7. Evitez absolument les ban"
   ]
  },
  {
   "cell_type": "markdown",
   "metadata": {},
   "source": []
  },
  {
   "cell_type": "markdown",
   "metadata": {},
   "source": [
    "# IV - Structurer le code pour itérer sur toutes les pages souhaitées\n",
    "# 8. Rédiger la fonction qui collecte les informations des évènements d’une page"
   ]
  },
  {
   "cell_type": "code",
   "execution_count": null,
   "metadata": {},
   "outputs": [],
   "source": [
    "import requests\n",
    "from datetime import datetime, timedelta\n",
    "\n",
    "def scrap_one_page(page, start_date, end_date):\n",
    "    # URL de l'API avec les paramÃ¨tres de date\n",
    "    url = f\"https://www.bandsintown.com/choose-dates/fetch-next/upcomingEvents?date=&page={page}&longitude=-74.006&latitude=40.7128&genre_query=all-genres&start_date={start_date}&end_date={end_date}\"\n",
    "\n",
    "    headers = {\n",
    "        \"User-Agent\": \"Mozilla/5.0 (Windows NT 10.0; Win64; x64) AppleWebKit/537.36 (KHTML, like Gecko) Chrome/58.0.3029.110 Safari/537.3\"\n",
    "    }\n",
    "\n",
    "\n",
    "    response = requests.get(url, headers=headers)\n",
    "    response.raise_for_status()  # VÃ©rifiez si la requÃªte a rÃ©ussi\n",
    "    data = response.json()  # Essayez de dÃ©coder la rÃ©ponse JSON\n",
    "\n",
    "    return data\n",
    "\n",
    "data = scrap_one_page(1, \"2024-10-01\", \"2024-10-31\")\n",
    "data"
   ]
  },
  {
   "cell_type": "markdown",
   "metadata": {},
   "source": [
    "# 9. Rédiger la fonction qui écrit le résultat d’une page JSON"
   ]
  },
  {
   "cell_type": "code",
   "execution_count": null,
   "metadata": {},
   "outputs": [],
   "source": []
  },
  {
   "cell_type": "markdown",
   "metadata": {},
   "source": [
    "# 10. Rédiger la fonction qui collecte plusieurs pages"
   ]
  },
  {
   "cell_type": "code",
   "execution_count": null,
   "metadata": {},
   "outputs": [],
   "source": []
  },
  {
   "cell_type": "markdown",
   "metadata": {},
   "source": [
    "# TD Transformation (~3H)\n",
    "# I - Construire le DataFrame des évènements"
   ]
  },
  {
   "cell_type": "code",
   "execution_count": null,
   "metadata": {},
   "outputs": [],
   "source": [
    "import os\n",
    "import pandas as pd\n",
    "repertoire= os.getcwd()\n",
    "list_event= []\n",
    "\n",
    "for nom_fichier in os.listdir(repertoire):\n",
    "    if nom_fichier.endswith(\".json\"):\n",
    "        file_name = os.path.join(repertoire, nom_fichier)\n",
    "        fp = open(file_name, \"r\", encoding=\"utf-8\")\n",
    "        d = json.load(fp)\n",
    "        list_event+= list(d.values())[0]\n",
    "\n",
    "df_event= pd.DataFrame(list_event)\n",
    "df_event"
   ]
  }
 ],
 "metadata": {
  "kernelspec": {
   "display_name": "Python 3",
   "language": "python",
   "name": "python3"
  },
  "language_info": {
   "codemirror_mode": {
    "name": "ipython",
    "version": 3
   },
   "file_extension": ".py",
   "mimetype": "text/x-python",
   "name": "python",
   "nbconvert_exporter": "python",
   "pygments_lexer": "ipython3",
   "version": "3.11.4"
  }
 },
 "nbformat": 4,
 "nbformat_minor": 2
}
