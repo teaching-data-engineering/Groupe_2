{
 "cells": [
  {
   "cell_type": "markdown",
   "metadata": {},
   "source": [
    "# II - Utiliser l’API\n",
    "\n",
    "# 3. Requêter vos premiers évènements\n",
    "\n",
    "Requêter vos premiers évènements dans la ville de votre groupe sur la plage de\n",
    "dates prédéfinies"
   ]
  },
  {
   "cell_type": "code",
   "execution_count": null,
   "metadata": {},
   "outputs": [],
   "source": [
    "import requests\n",
    "page = 1        \n",
    "url = f\"https://www.bandsintown.com/this-month/fetch-next/upcomingEvents?page={page}&longitude=-74.00597&latitude=40.71427&genre_query=all-genres\"\n",
    "\n",
    "headers = {\n",
    "        'User-Agent': 'Mozilla/5.0 (Windows NT 10.0; Win64; x64) AppleWebKit/537.36 (KHTML, like Gecko) Chrome/58.0.3029.110 Safari/537.3'\n",
    "    }\n",
    "\n",
    "data = requests.get(url, headers=headers).json()\n",
    "data"
   ]
  },
  {
   "cell_type": "markdown",
   "metadata": {},
   "source": [
    "# 4. Avoir les évènements d’une page spécifique"
   ]
  },
  {
   "cell_type": "code",
   "execution_count": 15,
   "metadata": {},
   "outputs": [],
   "source": [
    "from urllib.request import urlopen, Request\n",
    "from urllib import request, parse\n",
    "from pprint import pprint\n",
    "import json\n",
    "url = f\"https://www.bandsintown.com/this-month/fetch-next/upcomingEvents\"\n",
    "page= 1\n",
    "params_dic= {\n",
    "    \"page\" : f\"{page}\",\n",
    "    \"longitude\" : -74.00597,\n",
    "    \"latitude\" : 40.71427,\n",
    "    \"genre_query\" : \"all-genres\"\n",
    "}\n",
    "url_param = parse.urlencode(params_dic)\n",
    "full_url = f\"{url}?{url_param}\"\n",
    "\n",
    "headers = {\n",
    "    'User-Agent': 'Mozilla/5.0 (Windows NT 10.0; Win64; x64) AppleWebKit/537.36 (KHTML, like Gecko) Chrome/58.0.3029.110 Safari/537.3'\n",
    "}\n",
    "req = Request(full_url, headers=headers)\n",
    "response = urlopen(req)\n",
    "content = response.read()\n",
    "json_data = json.loads(content)\n",
    "file_json= json.dumps(json_data, indent=4)\n"
   ]
  },
  {
   "cell_type": "markdown",
   "metadata": {},
   "source": [
    "# 5. Identifier le maximum de page"
   ]
  },
  {
   "cell_type": "code",
   "execution_count": null,
   "metadata": {},
   "outputs": [],
   "source": [
    "print(file_json\n",
    ")\n"
   ]
  }
 ],
 "metadata": {
  "kernelspec": {
   "display_name": "Python 3",
   "language": "python",
   "name": "python3"
  },
  "language_info": {
   "codemirror_mode": {
    "name": "ipython",
    "version": 3
   },
   "file_extension": ".py",
   "mimetype": "text/x-python",
   "name": "python",
   "nbconvert_exporter": "python",
   "pygments_lexer": "ipython3",
   "version": "3.11.4"
  }
 },
 "nbformat": 4,
 "nbformat_minor": 2
}
