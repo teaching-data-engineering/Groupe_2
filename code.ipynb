{
 "cells": [
  {
   "cell_type": "code",
   "execution_count": 11,
   "metadata": {},
   "outputs": [
    {
     "data": {
      "text/plain": [
       "{'events': [], 'urlForNextPageOfEvents': None, 'userLocation': None}"
      ]
     },
     "execution_count": 11,
     "metadata": {},
     "output_type": "execute_result"
    }
   ],
   "source": [
    "import requests\n",
    "\n",
    "page = 1  \n",
    "start_date = \"2024-10-10T22:30:00\"\n",
    "end_date = \"2024-10-31T22:30:00\"\n",
    "          \n",
    "url = f\"https://www.bandsintown.com/choose-dates/fetch-next/upcomingEvents?date={start_date}&end_date={end_date}&page={page}&longitude=-74.00597&latitude=40.71427&genre_query=all-genres\"\n",
    "\n",
    "headers = {\n",
    "        'User-Agent': 'Mozilla/5.0 (Windows NT 10.0; Win64; x64) AppleWebKit/537.36 (KHTML, like Gecko) Chrome/58.0.3029.110 Safari/537.3'\n",
    "    }\n",
    "\n",
    "data = requests.get(url, headers=headers).json()\n",
    "data"
   ]
  }
 ],
 "metadata": {
  "kernelspec": {
   "display_name": "base",
   "language": "python",
   "name": "python3"
  },
  "language_info": {
   "codemirror_mode": {
    "name": "ipython",
    "version": 3
   },
   "file_extension": ".py",
   "mimetype": "text/x-python",
   "name": "python",
   "nbconvert_exporter": "python",
   "pygments_lexer": "ipython3",
   "version": "3.11.10"
  }
 },
 "nbformat": 4,
 "nbformat_minor": 2
}
