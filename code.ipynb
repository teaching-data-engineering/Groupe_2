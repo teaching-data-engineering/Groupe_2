{
 "cells": [
  {
   "cell_type": "markdown",
   "metadata": {},
   "source": [
    "# II - Utiliser l’API\n",
    "\n",
    "# 3. Requêter vos premiers évènements\n",
    "\n",
    "Requêter vos premiers évènements dans la ville de votre groupe sur la plage de\n",
    "dates prédéfinies"
   ]
  },
  {
   "cell_type": "code",
   "execution_count": null,
   "metadata": {},
   "outputs": [],
   "source": [
    "import requests\n",
    "page = 1        \n",
    "url = f\"https://www.bandsintown.com/this-month/fetch-next/upcomingEvents?page={page}&longitude=-74.00597&latitude=40.71427&genre_query=all-genres\"\n",
    "\n",
    "headers = {\n",
    "        'User-Agent': 'Mozilla/5.0 (Windows NT 10.0; Win64; x64) AppleWebKit/537.36 (KHTML, like Gecko) Chrome/58.0.3029.110 Safari/537.3'\n",
    "    }\n",
    "\n",
    "data = requests.get(url, headers=headers).json()\n",
    "data"
   ]
  },
  {
   "cell_type": "markdown",
   "metadata": {},
   "source": [
    "# 4. Avoir les évènements d’une page spécifique"
   ]
  },
  {
   "cell_type": "code",
   "execution_count": 15,
   "metadata": {},
   "outputs": [],
   "source": [
    "from urllib.request import urlopen, Request\n",
    "from urllib import request, parse\n",
    "from pprint import pprint\n",
    "import json\n",
    "url = f\"https://www.bandsintown.com/this-month/fetch-next/upcomingEvents\"\n",
    "page= 1\n",
    "params_dic= {\n",
    "    \"page\" : f\"{page}\",\n",
    "    \"longitude\" : -74.00597,\n",
    "    \"latitude\" : 40.71427,\n",
    "    \"genre_query\" : \"all-genres\"\n",
    "}\n",
    "url_param = parse.urlencode(params_dic)\n",
    "full_url = f\"{url}?{url_param}\"\n",
    "\n",
    "headers = {\n",
    "    'User-Agent': 'Mozilla/5.0 (Windows NT 10.0; Win64; x64) AppleWebKit/537.36 (KHTML, like Gecko) Chrome/58.0.3029.110 Safari/537.3'\n",
    "}\n",
    "req = Request(full_url, headers=headers)\n",
    "response = urlopen(req)\n",
    "content = response.read()\n",
    "json_data = json.loads(content)\n",
    "file_json= json.dumps(json_data, indent=4)\n"
   ]
  },
  {
   "cell_type": "markdown",
   "metadata": {},
   "source": [
    "# 5. Identifier le maximum de page"
   ]
  },
  {
   "cell_type": "code",
   "execution_count": null,
   "metadata": {},
   "outputs": [],
   "source": [
    "print(file_json)\n"
   ]
  },
  {
   "cell_type": "markdown",
   "metadata": {},
   "source": [
    "# III - Requêter avec des proxies\n",
    "\n",
    "# 6. Anonymiser vos requêtes avec les proxies"
   ]
  },
  {
   "cell_type": "code",
   "execution_count": null,
   "metadata": {},
   "outputs": [],
   "source": []
  },
  {
   "cell_type": "markdown",
   "metadata": {},
   "source": [
    "# 7. Evitez absolument les ban"
   ]
  },
  {
   "cell_type": "markdown",
   "metadata": {},
   "source": []
  },
  {
   "cell_type": "markdown",
   "metadata": {},
   "source": [
    "# IV - Structurer le code pour itérer sur toutes les pages souhaitées\n",
    "# 8. Rédiger la fonction qui collecte les informations des évènements d’une page"
   ]
  },
  {
   "cell_type": "code",
   "execution_count": null,
   "metadata": {},
   "outputs": [],
   "source": [
    "import requests\n",
    "from datetime import datetime, timedelta\n",
    "\n",
    "def scrap_one_page(page, start_date, end_date):\n",
    "    # URL de l'API avec les paramÃ¨tres de date\n",
    "    url = f\"https://www.bandsintown.com/choose-dates/fetch-next/upcomingEvents?date=&page={page}&longitude=-74.006&latitude=40.7128&genre_query=all-genres&start_date={start_date}&end_date={end_date}\"\n",
    "\n",
    "    headers = {\n",
    "        \"User-Agent\": \"Mozilla/5.0 (Windows NT 10.0; Win64; x64) AppleWebKit/537.36 (KHTML, like Gecko) Chrome/58.0.3029.110 Safari/537.3\"\n",
    "    }\n",
    "\n",
    "\n",
    "    response = requests.get(url, headers=headers)\n",
    "    response.raise_for_status()  # VÃ©rifiez si la requÃªte a rÃ©ussi\n",
    "    data = response.json()  # Essayez de dÃ©coder la rÃ©ponse JSON\n",
    "\n",
    "    return data\n",
    "\n",
    "data = scrap_one_page(1, \"2024-10-01\", \"2024-10-31\")\n",
    "data"
   ]
  },
  {
   "cell_type": "markdown",
   "metadata": {},
   "source": [
    "# 9. Rédiger la fonction qui écrit le résultat d’une page JSON"
   ]
  },
  {
   "cell_type": "code",
   "execution_count": 85,
   "metadata": {},
   "outputs": [],
   "source": [
    "# Question 9\n",
    "import os\n",
    "import json\n",
    "\n",
    "def save_json(response, idx_page, folder=\"data_events\"):\n",
    "    # CrÃ©er le dossier si nÃ©cessaire\n",
    "    if not os.path.exists(folder):\n",
    "        os.makedirs(folder)\n",
    "    \n",
    "    # DÃ©finir le nom du fichier (ex: \"page_1.json\", \"page_2.json\", etc.)\n",
    "    file_name = os.path.join(folder, f\"page_{idx_page}.json\")\n",
    "    \n",
    "    try:\n",
    "        # Ã‰criture des donnÃ©es dans un fichier JSON\n",
    "        with open(file_name, 'w', encoding='utf-8') as json_file:\n",
    "            json.dump(response, json_file, ensure_ascii=False, indent=4)\n",
    "    except IOError as e:\n",
    "        print(f\"Erreur lors de l'Ã©criture du fichier {file_name}: {e}\")\n",
    "\n",
    "data = scrap_one_page(1, \"2024-10-01\", \"2024-10-31\")\n",
    "save_json(data, 1)"
   ]
  },
  {
   "cell_type": "markdown",
   "metadata": {},
   "source": [
    "# 10. Rédiger la fonction qui collecte plusieurs pages"
   ]
  },
  {
   "cell_type": "code",
   "execution_count": null,
   "metadata": {},
   "outputs": [],
   "source": [
    "import json\n",
    "import requests\n",
    "from datetime import datetime, timedelta\n",
    "import time\n",
    "import random\n",
    "import os\n",
    "import random\n",
    "import time\n",
    "import datetime\n",
    "\n",
    "\n",
    "url = f\"https://www.bandsintown.com/choose-dates/fetch-next/upcomingEvents?longitude=-74.006&latitude=40.7128&genre_query=all-genres\"\n",
    "            \n",
    "\n",
    "\n",
    "def scrap_one_page(url,page,dateone,datebis):\n",
    "    headers = {\n",
    "    \"User-Agent\": \"Mozilla/5.0 (Windows NT 10.0; Win64; x64) AppleWebKit/537.36 (KHTML, like Gecko) Chrome/58.0.3029.110 Safari/537.3\"\n",
    "}\n",
    "            \n",
    "    url = f\"{url}&date={dateone}T00%3A00%3A00%2C{datebis}T23%3A00%3A00&page={page}&longitude=-74.006&latitude=40.7128&genre_query=all-genres\"\n",
    "    response = requests.get(url, headers=headers)\n",
    "    dico = response.json()\n",
    "    \n",
    "    return dico \n",
    "    \n",
    "\n",
    "def save_json(response, idx_page, date1,date2, folder=\"data_events\"):\n",
    "    # Créer le dossier si nécessaire\n",
    "    if not os.path.exists(folder):\n",
    "        os.makedirs(folder)\n",
    "    \n",
    "    # Définir le nom du fichier (ex: \"2024-10-01_page_1.json\", etc.)\n",
    "    file_name = os.path.join(folder, f\"{date1}_{date2}_page_1_{idx_page}.json\")\n",
    "    \n",
    "    try:\n",
    "        # Écriture des données dans un fichier JSON\n",
    "        with open(file_name, 'w', encoding='utf-8') as json_file:\n",
    "            json.dump(response, json_file, ensure_ascii=False, indent=4)\n",
    "    except IOError as e:\n",
    "        print(f\"Erreur lors de l'écriture du fichier {file_name}: {e}\")\n",
    "\n",
    "\n",
    "def scrap_multiple_pages(start_date, end_date):\n",
    "    # Initialisation du tests\n",
    "    dico_ev = dict()\n",
    "    page = 0\n",
    "    egale = False\n",
    "    data_page = None \n",
    "    page = 0\n",
    "\n",
    "    while(egale != True):\n",
    "        sleep_time = random.uniform(0.5, 5)\n",
    "        time.sleep(sleep_time)\n",
    "        data_page0=data_page\n",
    "            \n",
    "        page+=1\n",
    "            \n",
    "        dico=scrap_one_page(url,page,start_date,end_date)\n",
    "                  \n",
    "        \n",
    "        if len(dico[\"events\"]) > 0:\n",
    "            data_page=dico[\"events\"][0]['artistImageSrc']\n",
    "                \n",
    "\n",
    "            if data_page0 != data_page:\n",
    "                dico_ev[f\"events\"] = dico_ev.get(f\"events\", []) + dico[\"events\"]\n",
    "                \n",
    "            else:\n",
    "                egale=True\n",
    "                    # Ajout d'un délai aléatoire pour éviter le blocage de l'API\n",
    "                sleep_time = random.uniform(0.5, 5)  \n",
    "                time.sleep(sleep_time)\n",
    "        else :\n",
    "            sleep_time = random.uniform(0.5, 5)\n",
    "            time.sleep(sleep_time)\n",
    "            egale=True\n",
    "\n",
    "    return dico_ev,page\n",
    "\n",
    "\n",
    "\n",
    "\n",
    "\n",
    "\n",
    "def rcp_octobre(j):\n",
    "\n",
    "    page=None\n",
    "    dico_ev=None\n",
    "\n",
    "    for jours in range(j, 32, 3):\n",
    "        \n",
    "        if dico_ev: \n",
    "\n",
    "            save_json(dico_ev,page,dateone,datebis)\n",
    "                \n",
    "        j1 = jours + 2\n",
    "        if j1 > 31:\n",
    "            j1 = 31\n",
    "        dateone = f\"2024-10-{jours:02d}\"\n",
    "        datebis = f\"2024-10-{j1:02d}\"\n",
    "\n",
    "        dico_ev,page = scrap_multiple_pages(dateone,datebis)\n",
    "\n",
    "    \n",
    "\n",
    "\n",
    "\n",
    "rcp_octobre(8)"
   ]
  },
  {
   "cell_type": "markdown",
   "metadata": {},
   "source": [
    "# TD Transformation (~3H)\n",
    "# I - Construire le DataFrame des évènements"
   ]
  },
  {
   "cell_type": "code",
   "execution_count": null,
   "metadata": {},
   "outputs": [],
   "source": [
    "import os\n",
    "import pandas as pd\n",
    "repertoire= os.getcwd()\n",
    "list_event= []\n",
    "\n",
    "for nom_fichier in os.listdir(repertoire):\n",
    "    if nom_fichier.endswith(\".json\"):\n",
    "        file_name = os.path.join(repertoire, nom_fichier)\n",
    "        fp = open(file_name, \"r\", encoding=\"utf-8\")\n",
    "        d = json.load(fp)\n",
    "        list_event+= list(d.values())[0]\n",
    "\n",
    "df_event= pd.DataFrame(list_event)\n",
    "df_event"
   ]
  }
 ],
 "metadata": {
  "kernelspec": {
   "display_name": "Python 3",
   "language": "python",
   "name": "python3"
  },
  "language_info": {
   "codemirror_mode": {
    "name": "ipython",
    "version": 3
   },
   "file_extension": ".py",
   "mimetype": "text/x-python",
   "name": "python",
   "nbconvert_exporter": "python",
   "pygments_lexer": "ipython3",
   "version": "3.11.4"
  }
 },
 "nbformat": 4,
 "nbformat_minor": 2
}
